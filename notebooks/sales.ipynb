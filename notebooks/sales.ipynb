{
 "cells": [
  {
   "cell_type": "code",
   "execution_count": 1,
   "id": "a0b4c7be-8b7c-4bad-9a10-1dec4adaa432",
   "metadata": {
    "tags": []
   },
   "outputs": [],
   "source": [
    "import pandas as pd\n",
    "import seaborn as sn\n",
    "import datetime"
   ]
  },
  {
   "cell_type": "code",
   "execution_count": 2,
   "id": "a6b89861-2379-4b16-86fe-93b0004a3cf4",
   "metadata": {
    "tags": []
   },
   "outputs": [],
   "source": [
    "columnsNames = [\"ID\", \"ProductID\", \"ClientID\", \"Discount\", \"UnitPrice\", \"Quantity\", \"StoreID\", \"Date\"]"
   ]
  },
  {
   "cell_type": "code",
   "execution_count": 3,
   "id": "34a4dd9e-db83-478d-81fe-2e97478e0242",
   "metadata": {
    "tags": []
   },
   "outputs": [
    {
     "data": {
      "text/html": [
       "<div>\n",
       "<style scoped>\n",
       "    .dataframe tbody tr th:only-of-type {\n",
       "        vertical-align: middle;\n",
       "    }\n",
       "\n",
       "    .dataframe tbody tr th {\n",
       "        vertical-align: top;\n",
       "    }\n",
       "\n",
       "    .dataframe thead th {\n",
       "        text-align: right;\n",
       "    }\n",
       "</style>\n",
       "<table border=\"1\" class=\"dataframe\">\n",
       "  <thead>\n",
       "    <tr style=\"text-align: right;\">\n",
       "      <th></th>\n",
       "      <th></th>\n",
       "      <th>ID</th>\n",
       "      <th>ProductID</th>\n",
       "      <th>ClientID</th>\n",
       "      <th>Discount</th>\n",
       "      <th>UnitPrice</th>\n",
       "      <th>Quantity</th>\n",
       "      <th>StoreID</th>\n",
       "      <th>Date</th>\n",
       "    </tr>\n",
       "  </thead>\n",
       "  <tbody>\n",
       "    <tr>\n",
       "      <th rowspan=\"6\" valign=\"top\">NaN</th>\n",
       "      <th>NaN</th>\n",
       "      <td>NaN</td>\n",
       "      <td>NaN</td>\n",
       "      <td>NaN</td>\n",
       "      <td>NaN</td>\n",
       "      <td>NaN</td>\n",
       "      <td>NaN</td>\n",
       "      <td>NaN</td>\n",
       "      <td>NaN</td>\n",
       "    </tr>\n",
       "    <tr>\n",
       "      <th>NaN</th>\n",
       "      <td>NaN</td>\n",
       "      <td>NaN</td>\n",
       "      <td>NaN</td>\n",
       "      <td>NaN</td>\n",
       "      <td>NaN</td>\n",
       "      <td>NaN</td>\n",
       "      <td>NaN</td>\n",
       "      <td>NaN</td>\n",
       "    </tr>\n",
       "    <tr>\n",
       "      <th>NaN</th>\n",
       "      <td>NaN</td>\n",
       "      <td>NaN</td>\n",
       "      <td>NaN</td>\n",
       "      <td>NaN</td>\n",
       "      <td>NaN</td>\n",
       "      <td>NaN</td>\n",
       "      <td>NaN</td>\n",
       "      <td>NaN</td>\n",
       "    </tr>\n",
       "    <tr>\n",
       "      <th>NaN</th>\n",
       "      <td>NaN</td>\n",
       "      <td>NaN</td>\n",
       "      <td>NaN</td>\n",
       "      <td>NaN</td>\n",
       "      <td>NaN</td>\n",
       "      <td>NaN</td>\n",
       "      <td>NaN</td>\n",
       "      <td>NaN</td>\n",
       "    </tr>\n",
       "    <tr>\n",
       "      <th>NaN</th>\n",
       "      <td>ID</td>\n",
       "      <td>ProductID</td>\n",
       "      <td>ClientID</td>\n",
       "      <td>Discount</td>\n",
       "      <td>UnitPrice</td>\n",
       "      <td>Quantity</td>\n",
       "      <td>StoreID</td>\n",
       "      <td>Date</td>\n",
       "    </tr>\n",
       "    <tr>\n",
       "      <th>NaN</th>\n",
       "      <td>80260d682079b6090c8285b398c50d97</td>\n",
       "      <td>002552c0663708129c0019cc97552d7d3</td>\n",
       "      <td>14001</td>\n",
       "      <td>0,08</td>\n",
       "      <td>249,2</td>\n",
       "      <td>1</td>\n",
       "      <td>4</td>\n",
       "      <td>12/10/2018</td>\n",
       "    </tr>\n",
       "  </tbody>\n",
       "</table>\n",
       "</div>"
      ],
      "text/plain": [
       "                                       ID                          ProductID  \\\n",
       "NaN NaN                               NaN                                NaN   \n",
       "    NaN                               NaN                                NaN   \n",
       "    NaN                               NaN                                NaN   \n",
       "    NaN                               NaN                                NaN   \n",
       "    NaN                                ID                          ProductID   \n",
       "    NaN  80260d682079b6090c8285b398c50d97  002552c0663708129c0019cc97552d7d3   \n",
       "\n",
       "         ClientID  Discount  UnitPrice  Quantity  StoreID        Date  \n",
       "NaN NaN       NaN       NaN        NaN       NaN      NaN         NaN  \n",
       "    NaN       NaN       NaN        NaN       NaN      NaN         NaN  \n",
       "    NaN       NaN       NaN        NaN       NaN      NaN         NaN  \n",
       "    NaN       NaN       NaN        NaN       NaN      NaN         NaN  \n",
       "    NaN  ClientID  Discount  UnitPrice  Quantity  StoreID        Date  \n",
       "    NaN     14001      0,08      249,2         1        4  12/10/2018  "
      ]
     },
     "execution_count": 3,
     "metadata": {},
     "output_type": "execute_result"
    }
   ],
   "source": [
    "sales = pd.read_csv('../data/sales.csv', sep=',', header=None, names=columnsNames)\n",
    "sales.head(6)"
   ]
  },
  {
   "cell_type": "code",
   "execution_count": 4,
   "id": "9a69f538-c9cd-40a7-8bc5-7299d2a95a23",
   "metadata": {
    "tags": []
   },
   "outputs": [
    {
     "data": {
      "text/html": [
       "<div>\n",
       "<style scoped>\n",
       "    .dataframe tbody tr th:only-of-type {\n",
       "        vertical-align: middle;\n",
       "    }\n",
       "\n",
       "    .dataframe tbody tr th {\n",
       "        vertical-align: top;\n",
       "    }\n",
       "\n",
       "    .dataframe thead th {\n",
       "        text-align: right;\n",
       "    }\n",
       "</style>\n",
       "<table border=\"1\" class=\"dataframe\">\n",
       "  <thead>\n",
       "    <tr style=\"text-align: right;\">\n",
       "      <th></th>\n",
       "      <th>ID</th>\n",
       "      <th>ProductID</th>\n",
       "      <th>ClientID</th>\n",
       "      <th>Discount</th>\n",
       "      <th>UnitPrice</th>\n",
       "      <th>Quantity</th>\n",
       "      <th>StoreID</th>\n",
       "      <th>Date</th>\n",
       "    </tr>\n",
       "  </thead>\n",
       "  <tbody>\n",
       "    <tr>\n",
       "      <th>5</th>\n",
       "      <td>80260d682079b6090c8285b398c50d97</td>\n",
       "      <td>002552c0663708129c0019cc97552d7d3</td>\n",
       "      <td>14001</td>\n",
       "      <td>0,08</td>\n",
       "      <td>249,2</td>\n",
       "      <td>1</td>\n",
       "      <td>4</td>\n",
       "      <td>12/10/2018</td>\n",
       "    </tr>\n",
       "    <tr>\n",
       "      <th>6</th>\n",
       "      <td>3275736da1234f55d52bdf09d86b93bc</td>\n",
       "      <td>001b237c0e9bb435f2e54071129237e93</td>\n",
       "      <td>14001</td>\n",
       "      <td>0,1</td>\n",
       "      <td>162,4</td>\n",
       "      <td>1</td>\n",
       "      <td>4</td>\n",
       "      <td>4/25/2019</td>\n",
       "    </tr>\n",
       "    <tr>\n",
       "      <th>7</th>\n",
       "      <td>f3513eec8f1434b5b7e04ddf3598df40</td>\n",
       "      <td>00066f42aeeb9f3007548bb9d3f33c381</td>\n",
       "      <td>14001</td>\n",
       "      <td>0,1</td>\n",
       "      <td>194,6</td>\n",
       "      <td>1</td>\n",
       "      <td>4</td>\n",
       "      <td>7/17/2019</td>\n",
       "    </tr>\n",
       "    <tr>\n",
       "      <th>8</th>\n",
       "      <td>7180475b60fe6bbbde424d39704a1177</td>\n",
       "      <td>001b72dfd63e9833e8c02742adf472e33</td>\n",
       "      <td>14002</td>\n",
       "      <td>0,1</td>\n",
       "      <td>201,6</td>\n",
       "      <td>2</td>\n",
       "      <td>1</td>\n",
       "      <td>4/10/2018</td>\n",
       "    </tr>\n",
       "    <tr>\n",
       "      <th>9</th>\n",
       "      <td>76600853a200fe87e141adae6b35674c</td>\n",
       "      <td>00210e41887c2a8ef9f791ebc780cc363</td>\n",
       "      <td>14002</td>\n",
       "      <td>0,1</td>\n",
       "      <td>406</td>\n",
       "      <td>1</td>\n",
       "      <td>1</td>\n",
       "      <td>1/21/2019</td>\n",
       "    </tr>\n",
       "  </tbody>\n",
       "</table>\n",
       "</div>"
      ],
      "text/plain": [
       "                                 ID                          ProductID  \\\n",
       "5  80260d682079b6090c8285b398c50d97  002552c0663708129c0019cc97552d7d3   \n",
       "6  3275736da1234f55d52bdf09d86b93bc  001b237c0e9bb435f2e54071129237e93   \n",
       "7  f3513eec8f1434b5b7e04ddf3598df40  00066f42aeeb9f3007548bb9d3f33c381   \n",
       "8  7180475b60fe6bbbde424d39704a1177  001b72dfd63e9833e8c02742adf472e33   \n",
       "9  76600853a200fe87e141adae6b35674c  00210e41887c2a8ef9f791ebc780cc363   \n",
       "\n",
       "  ClientID Discount UnitPrice Quantity StoreID        Date  \n",
       "5    14001     0,08     249,2        1       4  12/10/2018  \n",
       "6    14001      0,1     162,4        1       4   4/25/2019  \n",
       "7    14001      0,1     194,6        1       4   7/17/2019  \n",
       "8    14002      0,1     201,6        2       1   4/10/2018  \n",
       "9    14002      0,1       406        1       1   1/21/2019  "
      ]
     },
     "execution_count": 4,
     "metadata": {},
     "output_type": "execute_result"
    }
   ],
   "source": [
    "sales.reset_index(drop=True, inplace=True)\n",
    "df = sales.iloc[5:,0:8] # get the 5 line to the end, and the columns from 0 to 8\n",
    "df.head()"
   ]
  },
  {
   "cell_type": "code",
   "execution_count": 7,
   "id": "009b84f2-8eb7-4b54-8905-a81109c1f365",
   "metadata": {
    "tags": []
   },
   "outputs": [
    {
     "data": {
      "text/html": [
       "<div>\n",
       "<style scoped>\n",
       "    .dataframe tbody tr th:only-of-type {\n",
       "        vertical-align: middle;\n",
       "    }\n",
       "\n",
       "    .dataframe tbody tr th {\n",
       "        vertical-align: top;\n",
       "    }\n",
       "\n",
       "    .dataframe thead th {\n",
       "        text-align: right;\n",
       "    }\n",
       "</style>\n",
       "<table border=\"1\" class=\"dataframe\">\n",
       "  <thead>\n",
       "    <tr style=\"text-align: right;\">\n",
       "      <th></th>\n",
       "      <th>ID</th>\n",
       "      <th>ProductID</th>\n",
       "      <th>ClientID</th>\n",
       "      <th>Discount</th>\n",
       "      <th>UnitPrice</th>\n",
       "      <th>Quantity</th>\n",
       "      <th>StoreID</th>\n",
       "      <th>Date</th>\n",
       "    </tr>\n",
       "  </thead>\n",
       "  <tbody>\n",
       "    <tr>\n",
       "      <th>count</th>\n",
       "      <td>32753</td>\n",
       "      <td>32753</td>\n",
       "      <td>32753</td>\n",
       "      <td>32753</td>\n",
       "      <td>32753</td>\n",
       "      <td>32753</td>\n",
       "      <td>32753</td>\n",
       "      <td>32753</td>\n",
       "    </tr>\n",
       "    <tr>\n",
       "      <th>unique</th>\n",
       "      <td>32753</td>\n",
       "      <td>73</td>\n",
       "      <td>13650</td>\n",
       "      <td>2</td>\n",
       "      <td>21</td>\n",
       "      <td>3</td>\n",
       "      <td>7</td>\n",
       "      <td>690</td>\n",
       "    </tr>\n",
       "    <tr>\n",
       "      <th>top</th>\n",
       "      <td>80260d682079b6090c8285b398c50d97</td>\n",
       "      <td>002ec297b1b00fb9dde7ee6ac24b67713</td>\n",
       "      <td>17631</td>\n",
       "      <td>0,1</td>\n",
       "      <td>233,8</td>\n",
       "      <td>1</td>\n",
       "      <td>1</td>\n",
       "      <td>12/24/2018</td>\n",
       "    </tr>\n",
       "    <tr>\n",
       "      <th>freq</th>\n",
       "      <td>1</td>\n",
       "      <td>966</td>\n",
       "      <td>9</td>\n",
       "      <td>21309</td>\n",
       "      <td>2776</td>\n",
       "      <td>30868</td>\n",
       "      <td>8230</td>\n",
       "      <td>99</td>\n",
       "    </tr>\n",
       "  </tbody>\n",
       "</table>\n",
       "</div>"
      ],
      "text/plain": [
       "                                      ID                          ProductID  \\\n",
       "count                              32753                              32753   \n",
       "unique                             32753                                 73   \n",
       "top     80260d682079b6090c8285b398c50d97  002ec297b1b00fb9dde7ee6ac24b67713   \n",
       "freq                                   1                                966   \n",
       "\n",
       "       ClientID Discount UnitPrice Quantity StoreID        Date  \n",
       "count     32753    32753     32753    32753   32753       32753  \n",
       "unique    13650        2        21        3       7         690  \n",
       "top       17631      0,1     233,8        1       1  12/24/2018  \n",
       "freq          9    21309      2776    30868    8230          99  "
      ]
     },
     "execution_count": 7,
     "metadata": {},
     "output_type": "execute_result"
    }
   ],
   "source": [
    "df.describe()"
   ]
  },
  {
   "cell_type": "code",
   "execution_count": 8,
   "id": "0361fa2e-c11f-44b8-89fc-9fd591bcd4ba",
   "metadata": {
    "tags": []
   },
   "outputs": [],
   "source": [
    "df['Discount'] = df['Discount'].apply(lambda x: x.replace(',','.'))\n",
    "df['Discount'] = df['Discount'].apply(lambda x: float(x))\n",
    "\n",
    "df['UnitPrice'] = df['UnitPrice'].apply(lambda x: x.replace(',','.'))\n",
    "df['UnitPrice'] = df['UnitPrice'].apply(lambda x: float(x))\n",
    "\n",
    "df['Quantity'] = df['Quantity'].apply(lambda x: int(x))\n",
    "\n",
    "df['StoreID'] = df['StoreID'].apply(lambda x: int(x))\n",
    "\n",
    "df['ClientID'] = df['ClientID'].apply(lambda x: int(x))"
   ]
  },
  {
   "cell_type": "code",
   "execution_count": null,
   "id": "9b8a209e-7e0d-43ed-a2ce-dc335903f633",
   "metadata": {
    "tags": []
   },
   "outputs": [],
   "source": [
    "df['UnitPrice'].describe()"
   ]
  },
  {
   "cell_type": "code",
   "execution_count": null,
   "id": "95dae9f6-6151-4733-a0d6-37085e3b5e2d",
   "metadata": {
    "tags": []
   },
   "outputs": [],
   "source": [
    "df['Discount'].describe()"
   ]
  },
  {
   "cell_type": "code",
   "execution_count": null,
   "id": "0ed99f04-77a3-4c1e-a140-94f4fa740879",
   "metadata": {
    "tags": []
   },
   "outputs": [],
   "source": [
    "df['StoreID'].describe()"
   ]
  },
  {
   "cell_type": "code",
   "execution_count": null,
   "id": "364fc3d8-91fd-408c-b158-c0804cd4d5fe",
   "metadata": {
    "tags": []
   },
   "outputs": [],
   "source": [
    "df['ClientID'].describe()"
   ]
  },
  {
   "cell_type": "code",
   "execution_count": 178,
   "id": "8511a4c0-a720-4629-95ae-5bb073c7485b",
   "metadata": {
    "tags": []
   },
   "outputs": [],
   "source": [
    "# Get data only from store 1\n",
    "dfStore1 = df.apply(lambda row: row[df['StoreID'] == 1])"
   ]
  },
  {
   "cell_type": "code",
   "execution_count": 179,
   "id": "0e06066d-e2b6-4579-8866-7bce240a9f23",
   "metadata": {
    "tags": []
   },
   "outputs": [],
   "source": [
    "# Get sales qty and month infos from the year 2018\n",
    "dfStore1_2018 = pd.DataFrame(columns=['Qty', 'Month'])\n",
    "month = list()\n",
    "qty = list()\n",
    "for index, row in dfStore1.iterrows():\n",
    "    year = datetime.datetime.strptime(row['Date'], \"%m/%d/%Y\").year\n",
    "    # print(year)\n",
    "    if year == 2018:\n",
    "        # print('if')\n",
    "        qty.append(row['Quantity'])\n",
    "        month.append(datetime.datetime.strptime(row['Date'], \"%m/%d/%Y\").month)\n"
   ]
  },
  {
   "cell_type": "code",
   "execution_count": 180,
   "id": "ce8e26bf-875d-45c3-8ce8-f25abf9c1746",
   "metadata": {
    "tags": []
   },
   "outputs": [],
   "source": [
    "dfStore1_2018['Qty'] = qty\n",
    "dfStore1_2018['Month'] = month"
   ]
  },
  {
   "cell_type": "code",
   "execution_count": 181,
   "id": "e79a3633-db86-4e1d-a259-da88d6864f98",
   "metadata": {
    "tags": []
   },
   "outputs": [],
   "source": [
    "# Sum sales qty by month\n",
    "monthQtySum = list()\n",
    "monthUnique = dfStore1_2018[\"Month\"].unique()\n",
    "for i in range(1,13):\n",
    "    subset_df = dfStore1_2018[dfStore1_2018[\"Month\"] == i]\n",
    "    # print(subset_df['Month'])\n",
    "    if subset_df['Qty'].sum() > 0:\n",
    "        monthQtySum.append(subset_df['Qty'].sum())\n"
   ]
  },
  {
   "cell_type": "code",
   "execution_count": 182,
   "id": "0c7e178f-6241-4bb0-b1e8-33db431cd3c5",
   "metadata": {
    "tags": []
   },
   "outputs": [
    {
     "name": "stdout",
     "output_type": "stream",
     "text": [
      "10 10\n"
     ]
    }
   ],
   "source": [
    "print(\n",
    "    len(dfStore1_2018[\"Month\"].unique()),\n",
    "    len(monthQtySum)\n",
    ")"
   ]
  },
  {
   "cell_type": "code",
   "execution_count": 183,
   "id": "e727696c-d318-43b3-99de-79745d0e5006",
   "metadata": {
    "tags": []
   },
   "outputs": [],
   "source": [
    "dfStore1_2018_byMonth = pd.DataFrame(columns=['Qty', 'Month'])\n",
    "dfStore1_2018_byMonth['Qty'] = monthQtySum\n",
    "dfStore1_2018_byMonth['Month'] = monthUnique"
   ]
  },
  {
   "cell_type": "code",
   "execution_count": 184,
   "id": "9c68ed4b-4999-4071-98ee-9d0396de0f63",
   "metadata": {
    "tags": []
   },
   "outputs": [
    {
     "data": {
      "text/plain": [
       "<AxesSubplot: xlabel='Month', ylabel='Qty'>"
      ]
     },
     "execution_count": 184,
     "metadata": {},
     "output_type": "execute_result"
    },
    {
     "data": {
      "image/png": "[encoded data removed]",
      "text/plain": [
       "<Figure size 640x480 with 1 Axes>"
      ]
     },
     "metadata": {},
     "output_type": "display_data"
    }
   ],
   "source": [
    "# Plot of sales qty by month of 2018\n",
    "sn.barplot(data=dfStore1_2018_byMonth, x=\"Month\", y=\"Qty\")"
   ]
  }
 ],
 "metadata": {
  "kernelspec": {
   "display_name": "Python 3 (ipykernel)",
   "language": "python",
   "name": "python3"
  },
  "language_info": {
   "codemirror_mode": {
    "name": "ipython",
    "version": 3
   },
   "file_extension": ".py",
   "mimetype": "text/x-python",
   "name": "python",
   "nbconvert_exporter": "python",
   "pygments_lexer": "ipython3",
   "version": "3.10.9"
  }
 },
 "nbformat": 4,
 "nbformat_minor": 5
}
