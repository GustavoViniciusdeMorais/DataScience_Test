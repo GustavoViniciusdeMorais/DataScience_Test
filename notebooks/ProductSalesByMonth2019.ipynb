{
 "cells": [
  {
   "cell_type": "code",
   "execution_count": 1,
   "id": "abf2e278-5e83-4193-8408-cbadc6d1d6c5",
   "metadata": {
    "tags": []
   },
   "outputs": [],
   "source": [
    "import pandas as pd\n",
    "import seaborn as sn\n",
    "import datetime"
   ]
  },
  {
   "cell_type": "code",
   "execution_count": 2,
   "id": "fd271fe3-c988-416f-971e-dd85d5bab101",
   "metadata": {
    "tags": []
   },
   "outputs": [],
   "source": [
    "columnsNames = [\"ID\", \"ProductID\", \"ClientID\", \"Discount\", \"UnitPrice\", \"Quantity\", \"StoreID\", \"Date\"]"
   ]
  },
  {
   "cell_type": "code",
   "execution_count": 3,
   "id": "520d8c5a-7c10-4b5f-9dbd-515936c1d7f8",
   "metadata": {
    "tags": []
   },
   "outputs": [
    {
     "data": {
      "text/html": [
       "<div>\n",
       "<style scoped>\n",
       "    .dataframe tbody tr th:only-of-type {\n",
       "        vertical-align: middle;\n",
       "    }\n",
       "\n",
       "    .dataframe tbody tr th {\n",
       "        vertical-align: top;\n",
       "    }\n",
       "\n",
       "    .dataframe thead th {\n",
       "        text-align: right;\n",
       "    }\n",
       "</style>\n",
       "<table border=\"1\" class=\"dataframe\">\n",
       "  <thead>\n",
       "    <tr style=\"text-align: right;\">\n",
       "      <th></th>\n",
       "      <th></th>\n",
       "      <th>ID</th>\n",
       "      <th>ProductID</th>\n",
       "      <th>ClientID</th>\n",
       "      <th>Discount</th>\n",
       "      <th>UnitPrice</th>\n",
       "      <th>Quantity</th>\n",
       "      <th>StoreID</th>\n",
       "      <th>Date</th>\n",
       "    </tr>\n",
       "  </thead>\n",
       "  <tbody>\n",
       "    <tr>\n",
       "      <th rowspan=\"6\" valign=\"top\">NaN</th>\n",
       "      <th>NaN</th>\n",
       "      <td>NaN</td>\n",
       "      <td>NaN</td>\n",
       "      <td>NaN</td>\n",
       "      <td>NaN</td>\n",
       "      <td>NaN</td>\n",
       "      <td>NaN</td>\n",
       "      <td>NaN</td>\n",
       "      <td>NaN</td>\n",
       "    </tr>\n",
       "    <tr>\n",
       "      <th>NaN</th>\n",
       "      <td>NaN</td>\n",
       "      <td>NaN</td>\n",
       "      <td>NaN</td>\n",
       "      <td>NaN</td>\n",
       "      <td>NaN</td>\n",
       "      <td>NaN</td>\n",
       "      <td>NaN</td>\n",
       "      <td>NaN</td>\n",
       "    </tr>\n",
       "    <tr>\n",
       "      <th>NaN</th>\n",
       "      <td>NaN</td>\n",
       "      <td>NaN</td>\n",
       "      <td>NaN</td>\n",
       "      <td>NaN</td>\n",
       "      <td>NaN</td>\n",
       "      <td>NaN</td>\n",
       "      <td>NaN</td>\n",
       "      <td>NaN</td>\n",
       "    </tr>\n",
       "    <tr>\n",
       "      <th>NaN</th>\n",
       "      <td>NaN</td>\n",
       "      <td>NaN</td>\n",
       "      <td>NaN</td>\n",
       "      <td>NaN</td>\n",
       "      <td>NaN</td>\n",
       "      <td>NaN</td>\n",
       "      <td>NaN</td>\n",
       "      <td>NaN</td>\n",
       "    </tr>\n",
       "    <tr>\n",
       "      <th>NaN</th>\n",
       "      <td>ID</td>\n",
       "      <td>ProductID</td>\n",
       "      <td>ClientID</td>\n",
       "      <td>Discount</td>\n",
       "      <td>UnitPrice</td>\n",
       "      <td>Quantity</td>\n",
       "      <td>StoreID</td>\n",
       "      <td>Date</td>\n",
       "    </tr>\n",
       "    <tr>\n",
       "      <th>NaN</th>\n",
       "      <td>80260d682079b6090c8285b398c50d97</td>\n",
       "      <td>002552c0663708129c0019cc97552d7d3</td>\n",
       "      <td>14001</td>\n",
       "      <td>0,08</td>\n",
       "      <td>249,2</td>\n",
       "      <td>1</td>\n",
       "      <td>4</td>\n",
       "      <td>12/10/2018</td>\n",
       "    </tr>\n",
       "  </tbody>\n",
       "</table>\n",
       "</div>"
      ],
      "text/plain": [
       "                                       ID                          ProductID  \\\n",
       "NaN NaN                               NaN                                NaN   \n",
       "    NaN                               NaN                                NaN   \n",
       "    NaN                               NaN                                NaN   \n",
       "    NaN                               NaN                                NaN   \n",
       "    NaN                                ID                          ProductID   \n",
       "    NaN  80260d682079b6090c8285b398c50d97  002552c0663708129c0019cc97552d7d3   \n",
       "\n",
       "         ClientID  Discount  UnitPrice  Quantity  StoreID        Date  \n",
       "NaN NaN       NaN       NaN        NaN       NaN      NaN         NaN  \n",
       "    NaN       NaN       NaN        NaN       NaN      NaN         NaN  \n",
       "    NaN       NaN       NaN        NaN       NaN      NaN         NaN  \n",
       "    NaN       NaN       NaN        NaN       NaN      NaN         NaN  \n",
       "    NaN  ClientID  Discount  UnitPrice  Quantity  StoreID        Date  \n",
       "    NaN     14001      0,08      249,2         1        4  12/10/2018  "
      ]
     },
     "execution_count": 3,
     "metadata": {},
     "output_type": "execute_result"
    }
   ],
   "source": [
    "sales = pd.read_csv('../data/sales.csv', sep=',', header=None, names=columnsNames)\n",
    "sales.head(6)"
   ]
  },
  {
   "cell_type": "code",
   "execution_count": 4,
   "id": "76b4d77d-677f-4cdb-acfd-8c15070aa6cc",
   "metadata": {
    "tags": []
   },
   "outputs": [
    {
     "data": {
      "text/html": [
       "<div>\n",
       "<style scoped>\n",
       "    .dataframe tbody tr th:only-of-type {\n",
       "        vertical-align: middle;\n",
       "    }\n",
       "\n",
       "    .dataframe tbody tr th {\n",
       "        vertical-align: top;\n",
       "    }\n",
       "\n",
       "    .dataframe thead th {\n",
       "        text-align: right;\n",
       "    }\n",
       "</style>\n",
       "<table border=\"1\" class=\"dataframe\">\n",
       "  <thead>\n",
       "    <tr style=\"text-align: right;\">\n",
       "      <th></th>\n",
       "      <th>ID</th>\n",
       "      <th>ProductID</th>\n",
       "      <th>ClientID</th>\n",
       "      <th>Discount</th>\n",
       "      <th>UnitPrice</th>\n",
       "      <th>Quantity</th>\n",
       "      <th>StoreID</th>\n",
       "      <th>Date</th>\n",
       "    </tr>\n",
       "  </thead>\n",
       "  <tbody>\n",
       "    <tr>\n",
       "      <th>5</th>\n",
       "      <td>80260d682079b6090c8285b398c50d97</td>\n",
       "      <td>002552c0663708129c0019cc97552d7d3</td>\n",
       "      <td>14001</td>\n",
       "      <td>0,08</td>\n",
       "      <td>249,2</td>\n",
       "      <td>1</td>\n",
       "      <td>4</td>\n",
       "      <td>12/10/2018</td>\n",
       "    </tr>\n",
       "    <tr>\n",
       "      <th>6</th>\n",
       "      <td>3275736da1234f55d52bdf09d86b93bc</td>\n",
       "      <td>001b237c0e9bb435f2e54071129237e93</td>\n",
       "      <td>14001</td>\n",
       "      <td>0,1</td>\n",
       "      <td>162,4</td>\n",
       "      <td>1</td>\n",
       "      <td>4</td>\n",
       "      <td>4/25/2019</td>\n",
       "    </tr>\n",
       "    <tr>\n",
       "      <th>7</th>\n",
       "      <td>f3513eec8f1434b5b7e04ddf3598df40</td>\n",
       "      <td>00066f42aeeb9f3007548bb9d3f33c381</td>\n",
       "      <td>14001</td>\n",
       "      <td>0,1</td>\n",
       "      <td>194,6</td>\n",
       "      <td>1</td>\n",
       "      <td>4</td>\n",
       "      <td>7/17/2019</td>\n",
       "    </tr>\n",
       "    <tr>\n",
       "      <th>8</th>\n",
       "      <td>7180475b60fe6bbbde424d39704a1177</td>\n",
       "      <td>001b72dfd63e9833e8c02742adf472e33</td>\n",
       "      <td>14002</td>\n",
       "      <td>0,1</td>\n",
       "      <td>201,6</td>\n",
       "      <td>2</td>\n",
       "      <td>1</td>\n",
       "      <td>4/10/2018</td>\n",
       "    </tr>\n",
       "    <tr>\n",
       "      <th>9</th>\n",
       "      <td>76600853a200fe87e141adae6b35674c</td>\n",
       "      <td>00210e41887c2a8ef9f791ebc780cc363</td>\n",
       "      <td>14002</td>\n",
       "      <td>0,1</td>\n",
       "      <td>406</td>\n",
       "      <td>1</td>\n",
       "      <td>1</td>\n",
       "      <td>1/21/2019</td>\n",
       "    </tr>\n",
       "  </tbody>\n",
       "</table>\n",
       "</div>"
      ],
      "text/plain": [
       "                                 ID                          ProductID  \\\n",
       "5  80260d682079b6090c8285b398c50d97  002552c0663708129c0019cc97552d7d3   \n",
       "6  3275736da1234f55d52bdf09d86b93bc  001b237c0e9bb435f2e54071129237e93   \n",
       "7  f3513eec8f1434b5b7e04ddf3598df40  00066f42aeeb9f3007548bb9d3f33c381   \n",
       "8  7180475b60fe6bbbde424d39704a1177  001b72dfd63e9833e8c02742adf472e33   \n",
       "9  76600853a200fe87e141adae6b35674c  00210e41887c2a8ef9f791ebc780cc363   \n",
       "\n",
       "  ClientID Discount UnitPrice Quantity StoreID        Date  \n",
       "5    14001     0,08     249,2        1       4  12/10/2018  \n",
       "6    14001      0,1     162,4        1       4   4/25/2019  \n",
       "7    14001      0,1     194,6        1       4   7/17/2019  \n",
       "8    14002      0,1     201,6        2       1   4/10/2018  \n",
       "9    14002      0,1       406        1       1   1/21/2019  "
      ]
     },
     "execution_count": 4,
     "metadata": {},
     "output_type": "execute_result"
    }
   ],
   "source": [
    "sales.reset_index(drop=True, inplace=True)\n",
    "df = sales.iloc[5:,0:8] # get the 5 line to the end, and the columns from 0 to 8\n",
    "df.head()"
   ]
  },
  {
   "cell_type": "code",
   "execution_count": 5,
   "id": "e3037ecd-ff88-4436-9e2e-b317eb6e3255",
   "metadata": {
    "tags": []
   },
   "outputs": [],
   "source": [
    "df['Discount'] = df['Discount'].apply(lambda x: x.replace(',','.'))\n",
    "df['Discount'] = df['Discount'].apply(lambda x: float(x))\n",
    "\n",
    "df['UnitPrice'] = df['UnitPrice'].apply(lambda x: x.replace(',','.'))\n",
    "df['UnitPrice'] = df['UnitPrice'].apply(lambda x: float(x))\n",
    "\n",
    "df['Quantity'] = df['Quantity'].apply(lambda x: int(x))\n",
    "\n",
    "df['StoreID'] = df['StoreID'].apply(lambda x: int(x))\n",
    "\n",
    "df['ClientID'] = df['ClientID'].apply(lambda x: int(x))"
   ]
  },
  {
   "cell_type": "code",
   "execution_count": 7,
   "id": "6e206448-ac8f-486e-b7da-be1791f9fe89",
   "metadata": {
    "tags": []
   },
   "outputs": [],
   "source": [
    "# Get sales qty and month infos from the year 2018\n",
    "dfStore1_2019 = pd.DataFrame(columns=['Qty', 'Month'])\n",
    "month = list()\n",
    "qty = list()\n",
    "for index, row in df.iterrows():\n",
    "    year = datetime.datetime.strptime(row['Date'], \"%m/%d/%Y\").year\n",
    "    # print(year)\n",
    "    if year == 2019 and row['ProductID'] == '002d4ea7c04739c130bb74d7e7cd16943':\n",
    "        # print('if')\n",
    "        qty.append(row['Quantity'])\n",
    "        month.append(datetime.datetime.strptime(row['Date'], \"%m/%d/%Y\").month)\n"
   ]
  },
  {
   "cell_type": "code",
   "execution_count": 9,
   "id": "96375cbc-9d0d-4e1e-8bc3-b76b62a4c045",
   "metadata": {
    "tags": []
   },
   "outputs": [],
   "source": [
    "dfStore1_2019['Qty'] = qty\n",
    "dfStore1_2019['Month'] = month"
   ]
  },
  {
   "cell_type": "code",
   "execution_count": 10,
   "id": "71a668c8-81e2-44ad-af38-86f17378415e",
   "metadata": {
    "tags": []
   },
   "outputs": [],
   "source": [
    "# Sum sales qty by month\n",
    "monthQtySum = list()\n",
    "monthUnique = dfStore1_2019[\"Month\"].unique()\n",
    "for i in range(1,13):\n",
    "    subset_df = dfStore1_2019[dfStore1_2019[\"Month\"] == i]\n",
    "    # print(subset_df['Month'])\n",
    "    if subset_df['Qty'].sum() > 0:\n",
    "        monthQtySum.append(subset_df['Qty'].sum())\n"
   ]
  },
  {
   "cell_type": "code",
   "execution_count": 11,
   "id": "b69430eb-68a6-49c3-ba18-5115f5b72ad8",
   "metadata": {
    "tags": []
   },
   "outputs": [],
   "source": [
    "dfStore1_2019_byMonth = pd.DataFrame(columns=['Qty', 'Month'])\n",
    "dfStore1_2019_byMonth['Qty'] = monthQtySum\n",
    "dfStore1_2019_byMonth['Month'] = monthUnique"
   ]
  },
  {
   "cell_type": "code",
   "execution_count": 13,
   "id": "4ce29ea8-5e4f-49a7-a52e-4d9e0f79d4b3",
   "metadata": {
    "tags": []
   },
   "outputs": [
    {
     "data": {
      "text/plain": [
       "<AxesSubplot: xlabel='Month', ylabel='Qty'>"
      ]
     },
     "execution_count": 13,
     "metadata": {},
     "output_type": "execute_result"
    },
    {
     "data": {
      "image/png": "[encoded data removed]",
      "text/plain": [
       "<Figure size 640x480 with 1 Axes>"
      ]
     },
     "metadata": {},
     "output_type": "display_data"
    }
   ],
   "source": [
    "# Plot of sales qty by month of 2019 product irom man G\n",
    "sn.barplot(data=dfStore1_2019_byMonth, x=\"Month\", y=\"Qty\")"
   ]
  }
 ],
 "metadata": {
  "kernelspec": {
   "display_name": "Python 3 (ipykernel)",
   "language": "python",
   "name": "python3"
  },
  "language_info": {
   "codemirror_mode": {
    "name": "ipython",
    "version": 3
   },
   "file_extension": ".py",
   "mimetype": "text/x-python",
   "name": "python",
   "nbconvert_exporter": "python",
   "pygments_lexer": "ipython3",
   "version": "3.10.9"
  }
 },
 "nbformat": 4,
 "nbformat_minor": 5
}
