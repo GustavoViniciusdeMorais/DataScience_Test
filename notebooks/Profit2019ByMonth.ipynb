{
 "cells": [
  {
   "cell_type": "code",
   "execution_count": 1,
   "id": "20d2c18b-ae6d-4d53-ab65-d1b64dcabc78",
   "metadata": {
    "tags": []
   },
   "outputs": [],
   "source": [
    "import pandas as pd\n",
    "import seaborn as sn\n",
    "import datetime"
   ]
  },
  {
   "cell_type": "code",
   "execution_count": 2,
   "id": "d98666f7-9a19-4379-9220-325c0c7fd9c6",
   "metadata": {
    "tags": []
   },
   "outputs": [],
   "source": [
    "columnsNames = [\"ID\", \"ProductID\", \"ClientID\", \"Discount\", \"UnitPrice\", \"Quantity\", \"StoreID\", \"Date\"]"
   ]
  },
  {
   "cell_type": "code",
   "execution_count": 3,
   "id": "6a7d85b4-8e6e-472f-91c7-7934802adfee",
   "metadata": {
    "tags": []
   },
   "outputs": [
    {
     "data": {
      "text/html": [
       "<div>\n",
       "<style scoped>\n",
       "    .dataframe tbody tr th:only-of-type {\n",
       "        vertical-align: middle;\n",
       "    }\n",
       "\n",
       "    .dataframe tbody tr th {\n",
       "        vertical-align: top;\n",
       "    }\n",
       "\n",
       "    .dataframe thead th {\n",
       "        text-align: right;\n",
       "    }\n",
       "</style>\n",
       "<table border=\"1\" class=\"dataframe\">\n",
       "  <thead>\n",
       "    <tr style=\"text-align: right;\">\n",
       "      <th></th>\n",
       "      <th></th>\n",
       "      <th>ID</th>\n",
       "      <th>ProductID</th>\n",
       "      <th>ClientID</th>\n",
       "      <th>Discount</th>\n",
       "      <th>UnitPrice</th>\n",
       "      <th>Quantity</th>\n",
       "      <th>StoreID</th>\n",
       "      <th>Date</th>\n",
       "    </tr>\n",
       "  </thead>\n",
       "  <tbody>\n",
       "    <tr>\n",
       "      <th rowspan=\"6\" valign=\"top\">NaN</th>\n",
       "      <th>NaN</th>\n",
       "      <td>NaN</td>\n",
       "      <td>NaN</td>\n",
       "      <td>NaN</td>\n",
       "      <td>NaN</td>\n",
       "      <td>NaN</td>\n",
       "      <td>NaN</td>\n",
       "      <td>NaN</td>\n",
       "      <td>NaN</td>\n",
       "    </tr>\n",
       "    <tr>\n",
       "      <th>NaN</th>\n",
       "      <td>NaN</td>\n",
       "      <td>NaN</td>\n",
       "      <td>NaN</td>\n",
       "      <td>NaN</td>\n",
       "      <td>NaN</td>\n",
       "      <td>NaN</td>\n",
       "      <td>NaN</td>\n",
       "      <td>NaN</td>\n",
       "    </tr>\n",
       "    <tr>\n",
       "      <th>NaN</th>\n",
       "      <td>NaN</td>\n",
       "      <td>NaN</td>\n",
       "      <td>NaN</td>\n",
       "      <td>NaN</td>\n",
       "      <td>NaN</td>\n",
       "      <td>NaN</td>\n",
       "      <td>NaN</td>\n",
       "      <td>NaN</td>\n",
       "    </tr>\n",
       "    <tr>\n",
       "      <th>NaN</th>\n",
       "      <td>NaN</td>\n",
       "      <td>NaN</td>\n",
       "      <td>NaN</td>\n",
       "      <td>NaN</td>\n",
       "      <td>NaN</td>\n",
       "      <td>NaN</td>\n",
       "      <td>NaN</td>\n",
       "      <td>NaN</td>\n",
       "    </tr>\n",
       "    <tr>\n",
       "      <th>NaN</th>\n",
       "      <td>ID</td>\n",
       "      <td>ProductID</td>\n",
       "      <td>ClientID</td>\n",
       "      <td>Discount</td>\n",
       "      <td>UnitPrice</td>\n",
       "      <td>Quantity</td>\n",
       "      <td>StoreID</td>\n",
       "      <td>Date</td>\n",
       "    </tr>\n",
       "    <tr>\n",
       "      <th>NaN</th>\n",
       "      <td>80260d682079b6090c8285b398c50d97</td>\n",
       "      <td>002552c0663708129c0019cc97552d7d3</td>\n",
       "      <td>14001</td>\n",
       "      <td>0,08</td>\n",
       "      <td>249,2</td>\n",
       "      <td>1</td>\n",
       "      <td>4</td>\n",
       "      <td>12/10/2018</td>\n",
       "    </tr>\n",
       "  </tbody>\n",
       "</table>\n",
       "</div>"
      ],
      "text/plain": [
       "                                       ID                          ProductID  \\\n",
       "NaN NaN                               NaN                                NaN   \n",
       "    NaN                               NaN                                NaN   \n",
       "    NaN                               NaN                                NaN   \n",
       "    NaN                               NaN                                NaN   \n",
       "    NaN                                ID                          ProductID   \n",
       "    NaN  80260d682079b6090c8285b398c50d97  002552c0663708129c0019cc97552d7d3   \n",
       "\n",
       "         ClientID  Discount  UnitPrice  Quantity  StoreID        Date  \n",
       "NaN NaN       NaN       NaN        NaN       NaN      NaN         NaN  \n",
       "    NaN       NaN       NaN        NaN       NaN      NaN         NaN  \n",
       "    NaN       NaN       NaN        NaN       NaN      NaN         NaN  \n",
       "    NaN       NaN       NaN        NaN       NaN      NaN         NaN  \n",
       "    NaN  ClientID  Discount  UnitPrice  Quantity  StoreID        Date  \n",
       "    NaN     14001      0,08      249,2         1        4  12/10/2018  "
      ]
     },
     "execution_count": 3,
     "metadata": {},
     "output_type": "execute_result"
    }
   ],
   "source": [
    "sales = pd.read_csv('../data/sales.csv', sep=',', header=None, names=columnsNames)\n",
    "sales.head(6)"
   ]
  },
  {
   "cell_type": "code",
   "execution_count": 16,
   "id": "d518edbc-7dec-4266-853e-64fc6f35711a",
   "metadata": {
    "tags": []
   },
   "outputs": [
    {
     "data": {
      "text/html": [
       "<div>\n",
       "<style scoped>\n",
       "    .dataframe tbody tr th:only-of-type {\n",
       "        vertical-align: middle;\n",
       "    }\n",
       "\n",
       "    .dataframe tbody tr th {\n",
       "        vertical-align: top;\n",
       "    }\n",
       "\n",
       "    .dataframe thead th {\n",
       "        text-align: right;\n",
       "    }\n",
       "</style>\n",
       "<table border=\"1\" class=\"dataframe\">\n",
       "  <thead>\n",
       "    <tr style=\"text-align: right;\">\n",
       "      <th></th>\n",
       "      <th>ID</th>\n",
       "      <th>ProductID</th>\n",
       "      <th>ClientID</th>\n",
       "      <th>Discount</th>\n",
       "      <th>UnitPrice</th>\n",
       "      <th>Quantity</th>\n",
       "      <th>StoreID</th>\n",
       "      <th>Date</th>\n",
       "    </tr>\n",
       "  </thead>\n",
       "  <tbody>\n",
       "    <tr>\n",
       "      <th>5</th>\n",
       "      <td>80260d682079b6090c8285b398c50d97</td>\n",
       "      <td>002552c0663708129c0019cc97552d7d3</td>\n",
       "      <td>14001</td>\n",
       "      <td>0,08</td>\n",
       "      <td>249,2</td>\n",
       "      <td>1</td>\n",
       "      <td>4</td>\n",
       "      <td>12/10/2018</td>\n",
       "    </tr>\n",
       "    <tr>\n",
       "      <th>6</th>\n",
       "      <td>3275736da1234f55d52bdf09d86b93bc</td>\n",
       "      <td>001b237c0e9bb435f2e54071129237e93</td>\n",
       "      <td>14001</td>\n",
       "      <td>0,1</td>\n",
       "      <td>162,4</td>\n",
       "      <td>1</td>\n",
       "      <td>4</td>\n",
       "      <td>4/25/2019</td>\n",
       "    </tr>\n",
       "    <tr>\n",
       "      <th>7</th>\n",
       "      <td>f3513eec8f1434b5b7e04ddf3598df40</td>\n",
       "      <td>00066f42aeeb9f3007548bb9d3f33c381</td>\n",
       "      <td>14001</td>\n",
       "      <td>0,1</td>\n",
       "      <td>194,6</td>\n",
       "      <td>1</td>\n",
       "      <td>4</td>\n",
       "      <td>7/17/2019</td>\n",
       "    </tr>\n",
       "    <tr>\n",
       "      <th>8</th>\n",
       "      <td>7180475b60fe6bbbde424d39704a1177</td>\n",
       "      <td>001b72dfd63e9833e8c02742adf472e33</td>\n",
       "      <td>14002</td>\n",
       "      <td>0,1</td>\n",
       "      <td>201,6</td>\n",
       "      <td>2</td>\n",
       "      <td>1</td>\n",
       "      <td>4/10/2018</td>\n",
       "    </tr>\n",
       "    <tr>\n",
       "      <th>9</th>\n",
       "      <td>76600853a200fe87e141adae6b35674c</td>\n",
       "      <td>00210e41887c2a8ef9f791ebc780cc363</td>\n",
       "      <td>14002</td>\n",
       "      <td>0,1</td>\n",
       "      <td>406</td>\n",
       "      <td>1</td>\n",
       "      <td>1</td>\n",
       "      <td>1/21/2019</td>\n",
       "    </tr>\n",
       "  </tbody>\n",
       "</table>\n",
       "</div>"
      ],
      "text/plain": [
       "                                 ID                          ProductID  \\\n",
       "5  80260d682079b6090c8285b398c50d97  002552c0663708129c0019cc97552d7d3   \n",
       "6  3275736da1234f55d52bdf09d86b93bc  001b237c0e9bb435f2e54071129237e93   \n",
       "7  f3513eec8f1434b5b7e04ddf3598df40  00066f42aeeb9f3007548bb9d3f33c381   \n",
       "8  7180475b60fe6bbbde424d39704a1177  001b72dfd63e9833e8c02742adf472e33   \n",
       "9  76600853a200fe87e141adae6b35674c  00210e41887c2a8ef9f791ebc780cc363   \n",
       "\n",
       "  ClientID Discount UnitPrice Quantity StoreID        Date  \n",
       "5    14001     0,08     249,2        1       4  12/10/2018  \n",
       "6    14001      0,1     162,4        1       4   4/25/2019  \n",
       "7    14001      0,1     194,6        1       4   7/17/2019  \n",
       "8    14002      0,1     201,6        2       1   4/10/2018  \n",
       "9    14002      0,1       406        1       1   1/21/2019  "
      ]
     },
     "execution_count": 16,
     "metadata": {},
     "output_type": "execute_result"
    }
   ],
   "source": [
    "sales.reset_index(drop=True, inplace=True)\n",
    "df = sales.iloc[5:,0:8] # get the 5 line to the end, and the columns from 0 to 8\n",
    "df.head()"
   ]
  },
  {
   "cell_type": "code",
   "execution_count": 17,
   "id": "2dad6a44-b1e0-414e-bb31-500adb387742",
   "metadata": {
    "tags": []
   },
   "outputs": [],
   "source": [
    "df['Discount'] = df['Discount'].apply(lambda x: x.replace(',','.'))\n",
    "df['Discount'] = df['Discount'].apply(lambda x: float(x))\n",
    "\n",
    "df['UnitPrice'] = df['UnitPrice'].apply(lambda x: x.replace(',','.'))\n",
    "df['UnitPrice'] = df['UnitPrice'].apply(lambda x: float(x))\n",
    "\n",
    "df['Quantity'] = df['Quantity'].apply(lambda x: float(x))\n",
    "\n",
    "df['StoreID'] = df['StoreID'].apply(lambda x: int(x))\n",
    "\n",
    "df['ClientID'] = df['ClientID'].apply(lambda x: int(x))"
   ]
  },
  {
   "cell_type": "code",
   "execution_count": 18,
   "id": "21355dd7-5589-40ce-967b-84b6fc35409b",
   "metadata": {
    "tags": []
   },
   "outputs": [],
   "source": [
    "# Get sales qty and month infos from the year 2018\n",
    "dfStore1_2019 = pd.DataFrame(columns=['Profit', 'Month'])\n",
    "month = list()\n",
    "profit = list()\n",
    "for index, row in df.iterrows():\n",
    "    year = datetime.datetime.strptime(row['Date'], \"%m/%d/%Y\").year\n",
    "    # print(year)\n",
    "    if year == 2019:\n",
    "        # print('if')\n",
    "        rProfit = row['Quantity'] * row['UnitPrice']\n",
    "        profit.append(rProfit)\n",
    "        month.append(datetime.datetime.strptime(row['Date'], \"%m/%d/%Y\").month)\n"
   ]
  },
  {
   "cell_type": "code",
   "execution_count": 19,
   "id": "0855bda1-5146-44af-862a-9fb6aaa53b45",
   "metadata": {
    "tags": []
   },
   "outputs": [],
   "source": [
    "dfStore1_2019['Profit'] = profit\n",
    "dfStore1_2019['Month'] = month"
   ]
  },
  {
   "cell_type": "code",
   "execution_count": 20,
   "id": "310c685d-de04-41f2-8c72-e391a3a7dce9",
   "metadata": {
    "tags": []
   },
   "outputs": [],
   "source": [
    "# Sum profit by month\n",
    "monthProfitSum = list()\n",
    "monthUnique = dfStore1_2019[\"Month\"].unique()\n",
    "for i in range(1,13):\n",
    "    subset_df = dfStore1_2019[dfStore1_2019[\"Month\"] == i]\n",
    "    # print(subset_df['Month'])\n",
    "    if subset_df['Profit'].sum() > 0:\n",
    "        monthProfitSum.append(subset_df['Profit'].sum())\n"
   ]
  },
  {
   "cell_type": "code",
   "execution_count": 21,
   "id": "f0f43bdc-8dfa-43a8-a9be-f191101a13f9",
   "metadata": {
    "tags": []
   },
   "outputs": [],
   "source": [
    "dfStore1_2019_byMonth = pd.DataFrame(columns=['Profit', 'Month'])\n",
    "dfStore1_2019_byMonth['Profit'] = monthProfitSum\n",
    "dfStore1_2019_byMonth['Month'] = monthUnique"
   ]
  },
  {
   "cell_type": "code",
   "execution_count": 23,
   "id": "54429333-245a-4221-9885-42af2ebfee29",
   "metadata": {
    "tags": []
   },
   "outputs": [
    {
     "data": {
      "text/plain": [
       "<AxesSubplot: xlabel='Month', ylabel='Profit'>"
      ]
     },
     "execution_count": 23,
     "metadata": {},
     "output_type": "execute_result"
    },
    {
     "data": {
      "image/png": "[encoded data removed]",
      "text/plain": [
       "<Figure size 640x480 with 1 Axes>"
      ]
     },
     "metadata": {},
     "output_type": "display_data"
    }
   ],
   "source": [
    "# Plot of profit by month 2019\n",
    "sn.barplot(data=dfStore1_2019_byMonth, x=\"Month\", y=\"Profit\")"
   ]
  },
  {
   "cell_type": "code",
   "execution_count": 24,
   "id": "ecff5d77-7614-48ad-901f-46dc41805abb",
   "metadata": {
    "tags": []
   },
   "outputs": [
    {
     "data": {
      "text/plain": [
       "count        12.000000\n",
       "mean     324240.933333\n",
       "std      105678.209798\n",
       "min      187203.800000\n",
       "25%      265072.150000\n",
       "50%      285989.900000\n",
       "75%      357271.950000\n",
       "max      495861.800000\n",
       "Name: Profit, dtype: float64"
      ]
     },
     "execution_count": 24,
     "metadata": {},
     "output_type": "execute_result"
    }
   ],
   "source": [
    "dfStore1_2019_byMonth['Profit'].describe()"
   ]
  }
 ],
 "metadata": {
  "kernelspec": {
   "display_name": "Python 3 (ipykernel)",
   "language": "python",
   "name": "python3"
  },
  "language_info": {
   "codemirror_mode": {
    "name": "ipython",
    "version": 3
   },
   "file_extension": ".py",
   "mimetype": "text/x-python",
   "name": "python",
   "nbconvert_exporter": "python",
   "pygments_lexer": "ipython3",
   "version": "3.10.9"
  }
 },
 "nbformat": 4,
 "nbformat_minor": 5
}
