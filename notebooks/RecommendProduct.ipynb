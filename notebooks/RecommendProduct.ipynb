{
 "cells": [
  {
   "cell_type": "markdown",
   "id": "cbed760a-9186-4329-b5ac-4b3c6ab61cfd",
   "metadata": {},
   "source": [
    "### If the customer is a woman and lives in RJ, what product would i recommend?"
   ]
  },
  {
   "cell_type": "markdown",
   "id": "b593f978-c863-4699-8ded-79cef4980894",
   "metadata": {},
   "source": [
    "- Get customers data\n",
    "    - Convert sex to binary, hot encode the state\n",
    "- Get products data\n",
    "    - Build category column, hot encode it\n",
    "- Build dataset of purchase history\n",
    "    - Columns: sex, stage, product_category is the class"
   ]
  },
  {
   "cell_type": "code",
   "execution_count": 1,
   "id": "e2e76f09-c82a-4ec1-83dd-9d68334f66ec",
   "metadata": {
    "tags": []
   },
   "outputs": [],
   "source": [
    "import pandas as pd"
   ]
  },
  {
   "cell_type": "markdown",
   "id": "a5c639a7-e905-4c8e-aafb-c63953ad88e3",
   "metadata": {
    "tags": []
   },
   "source": [
    "### Build products category column"
   ]
  },
  {
   "cell_type": "code",
   "execution_count": 3,
   "id": "070e53aa-1df7-4ca6-81f7-640b835b2e11",
   "metadata": {
    "tags": []
   },
   "outputs": [],
   "source": [
    "products = pd.read_csv('../data/products.csv')"
   ]
  },
  {
   "cell_type": "code",
   "execution_count": 4,
   "id": "478e636d-e361-441e-9260-b7d81b155385",
   "metadata": {
    "tags": []
   },
   "outputs": [
    {
     "data": {
      "text/plain": [
       "array(['Capitão América', 'Thor', 'Deadpool', 'Pantera Negra', 'Batman',\n",
       "       'Flash', 'Coringa', 'Mulher-Maravilha', 'Thanos', 'Wolverine',\n",
       "       'Capitã Marvel', 'Naruto', 'Pokemon Go Squirtle', 'Super Mario',\n",
       "       'BIXDream', 'Tempestade', 'Ciclope', 'Dragon Ball Z',\n",
       "       'Darth Vader', 'Iron Man', 'Bazinga', 'League Legends',\n",
       "       'Rick Morty', 'Homer Simpsons'], dtype=object)"
      ]
     },
     "execution_count": 4,
     "metadata": {},
     "output_type": "execute_result"
    }
   ],
   "source": [
    "products['Name'].unique()"
   ]
  },
  {
   "cell_type": "code",
   "execution_count": 27,
   "id": "9a80812b-4d4c-485c-8262-dd3ca23ca21c",
   "metadata": {
    "tags": []
   },
   "outputs": [],
   "source": [
    "categoriesList = list() #row['Name'] == ''"
   ]
  },
  {
   "cell_type": "code",
   "execution_count": 28,
   "id": "0882db71-c18c-4320-8a8e-697b1f816102",
   "metadata": {
    "tags": []
   },
   "outputs": [],
   "source": [
    "marvel = [\n",
    "    'Capitão América',\n",
    "    'Thor',\n",
    "    'Deadpool',\n",
    "    'Pantera Negra',\n",
    "    'Thanos',\n",
    "    'Wolverine',\n",
    "    'Capitã Marvel'\n",
    "    'Tempestade',\n",
    "    'Ciclope',\n",
    "    'Iron Man'\n",
    "]\n",
    "dc = [\n",
    "    'Batman',\n",
    "    'Flash',\n",
    "    'Coringa',\n",
    "    'Mulher-Maravilha'\n",
    "]\n",
    "anime = [\n",
    "    'Naruto',\n",
    "    'Dragon Ball Z'\n",
    "]\n",
    "games = [\n",
    "    'League Legends',\n",
    "    'Super Mario',\n",
    "    'Pokemon Go Squirtle'\n",
    "]\n",
    "cartoon = [\n",
    "    'Rick Morty',\n",
    "    'Homer Simpsons'\n",
    "]\n",
    "starwars = [\n",
    "    'Darth Vader'\n",
    "]\n",
    "boring = ['BIXDream']\n",
    "tv = ['Bazinga']"
   ]
  },
  {
   "cell_type": "code",
   "execution_count": 29,
   "id": "2e4c6ccf-2c7f-4a9d-a628-f3121ef3de27",
   "metadata": {
    "tags": []
   },
   "outputs": [],
   "source": [
    "for index, row in products.iterrows():\n",
    "    if row['Name'] in marvel:\n",
    "        categoriesList.append('MARVEL')\n",
    "    elif row['Name'] in dc:\n",
    "        categoriesList.append('DC')\n",
    "    elif row['Name'] in anime:\n",
    "        categoriesList.append('Anime')\n",
    "    elif row['Name'] in games:\n",
    "        categoriesList.append('Games')\n",
    "    elif row['Name'] in cartoon:\n",
    "        categoriesList.append('Cartoon')\n",
    "    elif row['Name'] in starwars:\n",
    "        categoriesList.append('StarWars')\n",
    "    elif row['Name'] in boring:\n",
    "        categoriesList.append('Boring')\n",
    "    elif row['Name'] in tv:\n",
    "        categoriesList.append('TV')\n",
    "    else:\n",
    "        categoriesList.append('Nan')"
   ]
  },
  {
   "cell_type": "code",
   "execution_count": 30,
   "id": "16ae9970-2fd4-44c0-afdc-7b3b1599b8e5",
   "metadata": {
    "tags": []
   },
   "outputs": [],
   "source": [
    "products['Category'] = categoriesList"
   ]
  },
  {
   "cell_type": "code",
   "execution_count": 33,
   "id": "f085ea72-6bd8-499f-adf6-2dfb4808ce57",
   "metadata": {
    "tags": []
   },
   "outputs": [
    {
     "data": {
      "text/html": [
       "<div>\n",
       "<style scoped>\n",
       "    .dataframe tbody tr th:only-of-type {\n",
       "        vertical-align: middle;\n",
       "    }\n",
       "\n",
       "    .dataframe tbody tr th {\n",
       "        vertical-align: top;\n",
       "    }\n",
       "\n",
       "    .dataframe thead th {\n",
       "        text-align: right;\n",
       "    }\n",
       "</style>\n",
       "<table border=\"1\" class=\"dataframe\">\n",
       "  <thead>\n",
       "    <tr style=\"text-align: right;\">\n",
       "      <th></th>\n",
       "      <th>ID</th>\n",
       "      <th>Name</th>\n",
       "      <th>Size</th>\n",
       "      <th>Category</th>\n",
       "    </tr>\n",
       "  </thead>\n",
       "  <tbody>\n",
       "    <tr>\n",
       "      <th>68</th>\n",
       "      <td>0030e635639c898b323826589761cf233</td>\n",
       "      <td>Rick Morty</td>\n",
       "      <td>G</td>\n",
       "      <td>Cartoon</td>\n",
       "    </tr>\n",
       "    <tr>\n",
       "      <th>69</th>\n",
       "      <td>003128f981470c3e5a2e7445e4a771cd1</td>\n",
       "      <td>Homer Simpsons</td>\n",
       "      <td>P</td>\n",
       "      <td>Cartoon</td>\n",
       "    </tr>\n",
       "    <tr>\n",
       "      <th>70</th>\n",
       "      <td>003128f981470c3e5a2e7445e4a771cd2</td>\n",
       "      <td>Homer Simpsons</td>\n",
       "      <td>M</td>\n",
       "      <td>Cartoon</td>\n",
       "    </tr>\n",
       "    <tr>\n",
       "      <th>71</th>\n",
       "      <td>003128f981470c3e5a2e7445e4a771cd3</td>\n",
       "      <td>Homer Simpsons</td>\n",
       "      <td>G</td>\n",
       "      <td>Cartoon</td>\n",
       "    </tr>\n",
       "    <tr>\n",
       "      <th>72</th>\n",
       "      <td>003128f981470c3e5a2e7445e4a771cd4</td>\n",
       "      <td>Homer Simpsons</td>\n",
       "      <td>GG</td>\n",
       "      <td>Cartoon</td>\n",
       "    </tr>\n",
       "  </tbody>\n",
       "</table>\n",
       "</div>"
      ],
      "text/plain": [
       "                                   ID            Name Size Category\n",
       "68  0030e635639c898b323826589761cf233      Rick Morty    G  Cartoon\n",
       "69  003128f981470c3e5a2e7445e4a771cd1  Homer Simpsons    P  Cartoon\n",
       "70  003128f981470c3e5a2e7445e4a771cd2  Homer Simpsons    M  Cartoon\n",
       "71  003128f981470c3e5a2e7445e4a771cd3  Homer Simpsons    G  Cartoon\n",
       "72  003128f981470c3e5a2e7445e4a771cd4  Homer Simpsons   GG  Cartoon"
      ]
     },
     "execution_count": 33,
     "metadata": {},
     "output_type": "execute_result"
    }
   ],
   "source": [
    "products.tail()"
   ]
  },
  {
   "cell_type": "code",
   "execution_count": 38,
   "id": "5f62db97-3644-4412-99bf-b5fc65a2a418",
   "metadata": {
    "tags": []
   },
   "outputs": [],
   "source": [
    "# DataFrame query\n",
    "search = products.loc[products['ID'] == '00066f42aeeb9f3007548bb9d3f33c381']"
   ]
  },
  {
   "cell_type": "code",
   "execution_count": 78,
   "id": "ca558ae3-826d-4bb7-a776-286aad8cc0cb",
   "metadata": {
    "tags": []
   },
   "outputs": [
    {
     "data": {
      "text/plain": [
       "'MARVEL'"
      ]
     },
     "execution_count": 78,
     "metadata": {},
     "output_type": "execute_result"
    }
   ],
   "source": [
    "search['Category'][0]"
   ]
  },
  {
   "cell_type": "markdown",
   "id": "62c2eab1-963e-48f4-b076-ace8ef22785b",
   "metadata": {},
   "source": [
    "### Build DataSet\n",
    "Join customer data with product category looping through sales data."
   ]
  },
  {
   "cell_type": "code",
   "execution_count": 62,
   "id": "be9c95e7-bb24-4d4b-825e-a384325f6290",
   "metadata": {
    "tags": []
   },
   "outputs": [],
   "source": [
    "# Load DataSets\n",
    "customers = pd.read_csv('../data/customers.csv')\n",
    "\n",
    "columnsNames = [\"ID\", \"ProductID\", \"ClientID\", \"Discount\", \"UnitPrice\", \"Quantity\", \"StoreID\", \"Date\"]\n",
    "sales = pd.read_csv('../data/sales.csv', sep=',', header=None, names=columnsNames)\n",
    "sales.reset_index(drop=True, inplace=True)\n",
    "dfSales = sales.iloc[5:,0:8] # get the 5 line to the end, and the columns from 0 to 8\n",
    "dfStore1 = dfSales.apply(lambda row: row[dfSales['StoreID'] == '1'])"
   ]
  },
  {
   "cell_type": "code",
   "execution_count": 94,
   "id": "74981435-1614-44eb-bb44-0ecb42480826",
   "metadata": {
    "tags": []
   },
   "outputs": [
    {
     "data": {
      "text/plain": [
       "14001"
      ]
     },
     "execution_count": 94,
     "metadata": {},
     "output_type": "execute_result"
    }
   ],
   "source": [
    "# Test to convert dataset line search into some kind of object\n",
    "searchCustomer = customers.loc[customers['ID'] == int('14001')].squeeze()\n",
    "searchCustomer.ID"
   ]
  },
  {
   "cell_type": "code",
   "execution_count": 95,
   "id": "77a6c3cf-4137-43b5-b716-763a3f1544ac",
   "metadata": {
    "tags": []
   },
   "outputs": [],
   "source": [
    "customerSex = list()\n",
    "customerState = list()\n",
    "salesProductCategory = list()\n",
    "\n",
    "for index, row in dfStore1.iterrows():\n",
    "    searchProduct = products.loc[products['ID'] == row['ProductID']].squeeze()\n",
    "    salesProductCategory.append(searchProduct.Category)\n",
    "    \n",
    "    searchCustomer = customers.loc[customers['ID'] == int(row['ClientID'])].squeeze()\n",
    "    customerSex.append(searchCustomer.Sex)\n",
    "    customerState.append(searchCustomer.State)"
   ]
  },
  {
   "cell_type": "code",
   "execution_count": null,
   "id": "af7470c9-9748-4258-ae09-f496fe03775c",
   "metadata": {
    "tags": []
   },
   "outputs": [],
   "source": [
    "salesProductCategory"
   ]
  },
  {
   "cell_type": "code",
   "execution_count": 98,
   "id": "510c8ad0-c7b9-4197-a9cd-d8721511e0d4",
   "metadata": {
    "tags": []
   },
   "outputs": [],
   "source": [
    "dfStore1['Category'] = salesProductCategory\n",
    "dfStore1['Sex'] = customerSex\n",
    "dfStore1['State'] = customerState"
   ]
  },
  {
   "cell_type": "code",
   "execution_count": 99,
   "id": "dfe3f305-0b51-4fa5-a64b-18e059006513",
   "metadata": {
    "tags": []
   },
   "outputs": [
    {
     "data": {
      "text/html": [
       "<div>\n",
       "<style scoped>\n",
       "    .dataframe tbody tr th:only-of-type {\n",
       "        vertical-align: middle;\n",
       "    }\n",
       "\n",
       "    .dataframe tbody tr th {\n",
       "        vertical-align: top;\n",
       "    }\n",
       "\n",
       "    .dataframe thead th {\n",
       "        text-align: right;\n",
       "    }\n",
       "</style>\n",
       "<table border=\"1\" class=\"dataframe\">\n",
       "  <thead>\n",
       "    <tr style=\"text-align: right;\">\n",
       "      <th></th>\n",
       "      <th>ID</th>\n",
       "      <th>ProductID</th>\n",
       "      <th>ClientID</th>\n",
       "      <th>Discount</th>\n",
       "      <th>UnitPrice</th>\n",
       "      <th>Quantity</th>\n",
       "      <th>StoreID</th>\n",
       "      <th>Date</th>\n",
       "      <th>Category</th>\n",
       "      <th>Sex</th>\n",
       "      <th>State</th>\n",
       "    </tr>\n",
       "  </thead>\n",
       "  <tbody>\n",
       "    <tr>\n",
       "      <th>8</th>\n",
       "      <td>7180475b60fe6bbbde424d39704a1177</td>\n",
       "      <td>001b72dfd63e9833e8c02742adf472e33</td>\n",
       "      <td>14002</td>\n",
       "      <td>0,1</td>\n",
       "      <td>201,6</td>\n",
       "      <td>2</td>\n",
       "      <td>1</td>\n",
       "      <td>4/10/2018</td>\n",
       "      <td>MARVEL</td>\n",
       "      <td>Homem</td>\n",
       "      <td>SC</td>\n",
       "    </tr>\n",
       "    <tr>\n",
       "      <th>9</th>\n",
       "      <td>76600853a200fe87e141adae6b35674c</td>\n",
       "      <td>00210e41887c2a8ef9f791ebc780cc363</td>\n",
       "      <td>14002</td>\n",
       "      <td>0,1</td>\n",
       "      <td>406</td>\n",
       "      <td>1</td>\n",
       "      <td>1</td>\n",
       "      <td>1/21/2019</td>\n",
       "      <td>Anime</td>\n",
       "      <td>Homem</td>\n",
       "      <td>SC</td>\n",
       "    </tr>\n",
       "    <tr>\n",
       "      <th>10</th>\n",
       "      <td>7ab64f42a8f9ab290e920eed320d7e60</td>\n",
       "      <td>002552c0663708129c0019cc97552d7d3</td>\n",
       "      <td>14002</td>\n",
       "      <td>0,1</td>\n",
       "      <td>249,2</td>\n",
       "      <td>1</td>\n",
       "      <td>1</td>\n",
       "      <td>3/28/2019</td>\n",
       "      <td>Nan</td>\n",
       "      <td>Homem</td>\n",
       "      <td>SC</td>\n",
       "    </tr>\n",
       "    <tr>\n",
       "      <th>11</th>\n",
       "      <td>b35a771164a9defa3b4767f1b66918b1</td>\n",
       "      <td>002959d7a0b0990fe2d69988affcbc803</td>\n",
       "      <td>14002</td>\n",
       "      <td>0,08</td>\n",
       "      <td>261,8</td>\n",
       "      <td>1</td>\n",
       "      <td>1</td>\n",
       "      <td>8/14/2019</td>\n",
       "      <td>MARVEL</td>\n",
       "      <td>Homem</td>\n",
       "      <td>SC</td>\n",
       "    </tr>\n",
       "    <tr>\n",
       "      <th>12</th>\n",
       "      <td>28618be7d166aad45ab14e9bca43cc19</td>\n",
       "      <td>00126f27c813603687e6ce486d909d013</td>\n",
       "      <td>14002</td>\n",
       "      <td>0,08</td>\n",
       "      <td>114,8</td>\n",
       "      <td>1</td>\n",
       "      <td>1</td>\n",
       "      <td>12/30/2019</td>\n",
       "      <td>DC</td>\n",
       "      <td>Homem</td>\n",
       "      <td>SC</td>\n",
       "    </tr>\n",
       "  </tbody>\n",
       "</table>\n",
       "</div>"
      ],
      "text/plain": [
       "                                  ID                          ProductID  \\\n",
       "8   7180475b60fe6bbbde424d39704a1177  001b72dfd63e9833e8c02742adf472e33   \n",
       "9   76600853a200fe87e141adae6b35674c  00210e41887c2a8ef9f791ebc780cc363   \n",
       "10  7ab64f42a8f9ab290e920eed320d7e60  002552c0663708129c0019cc97552d7d3   \n",
       "11  b35a771164a9defa3b4767f1b66918b1  002959d7a0b0990fe2d69988affcbc803   \n",
       "12  28618be7d166aad45ab14e9bca43cc19  00126f27c813603687e6ce486d909d013   \n",
       "\n",
       "   ClientID Discount UnitPrice Quantity StoreID        Date Category    Sex  \\\n",
       "8     14002      0,1     201,6        2       1   4/10/2018   MARVEL  Homem   \n",
       "9     14002      0,1       406        1       1   1/21/2019    Anime  Homem   \n",
       "10    14002      0,1     249,2        1       1   3/28/2019      Nan  Homem   \n",
       "11    14002     0,08     261,8        1       1   8/14/2019   MARVEL  Homem   \n",
       "12    14002     0,08     114,8        1       1  12/30/2019       DC  Homem   \n",
       "\n",
       "   State  \n",
       "8     SC  \n",
       "9     SC  \n",
       "10    SC  \n",
       "11    SC  \n",
       "12    SC  "
      ]
     },
     "execution_count": 99,
     "metadata": {},
     "output_type": "execute_result"
    }
   ],
   "source": [
    "dfStore1.head()"
   ]
  },
  {
   "cell_type": "markdown",
   "id": "6dff2acc-51a7-42b5-be92-2305468ff491",
   "metadata": {
    "tags": []
   },
   "source": [
    "### Next steps\n",
    "- Clean the columns that wont be used\n",
    "- Encode the customer sex and state"
   ]
  }
 ],
 "metadata": {
  "kernelspec": {
   "display_name": "Python 3 (ipykernel)",
   "language": "python",
   "name": "python3"
  },
  "language_info": {
   "codemirror_mode": {
    "name": "ipython",
    "version": 3
   },
   "file_extension": ".py",
   "mimetype": "text/x-python",
   "name": "python",
   "nbconvert_exporter": "python",
   "pygments_lexer": "ipython3",
   "version": "3.10.9"
  }
 },
 "nbformat": 4,
 "nbformat_minor": 5
}
