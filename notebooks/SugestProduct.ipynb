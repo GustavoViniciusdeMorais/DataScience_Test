{
 "cells": [
  {
   "cell_type": "markdown",
   "id": "cbed760a-9186-4329-b5ac-4b3c6ab61cfd",
   "metadata": {},
   "source": [
    "### If the customer is a woman and lives in RJ, what product would i sugets?"
   ]
  },
  {
   "cell_type": "markdown",
   "id": "b593f978-c863-4699-8ded-79cef4980894",
   "metadata": {},
   "source": [
    "- Get customers data\n",
    "    - Convert sex to binary, hot encode the state\n",
    "- Get products data\n",
    "    - Build category column, hot encode it\n",
    "- Build dataset of purchase history\n",
    "    - Columns: sex, stage, product_category is the class"
   ]
  }
 ],
 "metadata": {
  "kernelspec": {
   "display_name": "Python 3 (ipykernel)",
   "language": "python",
   "name": "python3"
  },
  "language_info": {
   "codemirror_mode": {
    "name": "ipython",
    "version": 3
   },
   "file_extension": ".py",
   "mimetype": "text/x-python",
   "name": "python",
   "nbconvert_exporter": "python",
   "pygments_lexer": "ipython3",
   "version": "3.10.9"
  }
 },
 "nbformat": 4,
 "nbformat_minor": 5
}
