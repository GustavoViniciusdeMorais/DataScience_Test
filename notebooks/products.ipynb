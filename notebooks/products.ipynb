{
 "cells": [
  {
   "cell_type": "code",
   "execution_count": 1,
   "id": "239ddf07-e738-4ddd-b3ae-3a119397cb01",
   "metadata": {
    "tags": []
   },
   "outputs": [],
   "source": [
    "import pandas as pd"
   ]
  },
  {
   "cell_type": "code",
   "execution_count": 2,
   "id": "c256a4d2-06d9-4557-9c0a-326fbb731a14",
   "metadata": {
    "tags": []
   },
   "outputs": [
    {
     "data": {
      "text/html": [
       "<div>\n",
       "<style scoped>\n",
       "    .dataframe tbody tr th:only-of-type {\n",
       "        vertical-align: middle;\n",
       "    }\n",
       "\n",
       "    .dataframe tbody tr th {\n",
       "        vertical-align: top;\n",
       "    }\n",
       "\n",
       "    .dataframe thead th {\n",
       "        text-align: right;\n",
       "    }\n",
       "</style>\n",
       "<table border=\"1\" class=\"dataframe\">\n",
       "  <thead>\n",
       "    <tr style=\"text-align: right;\">\n",
       "      <th></th>\n",
       "      <th>ID</th>\n",
       "      <th>Name</th>\n",
       "      <th>Size</th>\n",
       "    </tr>\n",
       "  </thead>\n",
       "  <tbody>\n",
       "    <tr>\n",
       "      <th>0</th>\n",
       "      <td>00066f42aeeb9f3007548bb9d3f33c381</td>\n",
       "      <td>Capitão América</td>\n",
       "      <td>P</td>\n",
       "    </tr>\n",
       "    <tr>\n",
       "      <th>1</th>\n",
       "      <td>00066f42aeeb9f3007548bb9d3f33c382</td>\n",
       "      <td>Capitão América</td>\n",
       "      <td>M</td>\n",
       "    </tr>\n",
       "    <tr>\n",
       "      <th>2</th>\n",
       "      <td>00066f42aeeb9f3007548bb9d3f33c383</td>\n",
       "      <td>Capitão América</td>\n",
       "      <td>G</td>\n",
       "    </tr>\n",
       "    <tr>\n",
       "      <th>3</th>\n",
       "      <td>00088930e925c41fd95ebfe695fd26551</td>\n",
       "      <td>Thor</td>\n",
       "      <td>P</td>\n",
       "    </tr>\n",
       "    <tr>\n",
       "      <th>4</th>\n",
       "      <td>00088930e925c41fd95ebfe695fd26552</td>\n",
       "      <td>Thor</td>\n",
       "      <td>M</td>\n",
       "    </tr>\n",
       "  </tbody>\n",
       "</table>\n",
       "</div>"
      ],
      "text/plain": [
       "                                  ID             Name Size\n",
       "0  00066f42aeeb9f3007548bb9d3f33c381  Capitão América    P\n",
       "1  00066f42aeeb9f3007548bb9d3f33c382  Capitão América    M\n",
       "2  00066f42aeeb9f3007548bb9d3f33c383  Capitão América    G\n",
       "3  00088930e925c41fd95ebfe695fd26551             Thor    P\n",
       "4  00088930e925c41fd95ebfe695fd26552             Thor    M"
      ]
     },
     "execution_count": 2,
     "metadata": {},
     "output_type": "execute_result"
    }
   ],
   "source": [
    "products = pd.read_csv('../data/products.csv')\n",
    "products.head()"
   ]
  },
  {
   "cell_type": "code",
   "execution_count": 3,
   "id": "e6b2cc24-6311-41c3-9c56-abf8a8c3eb68",
   "metadata": {
    "tags": []
   },
   "outputs": [
    {
     "data": {
      "text/plain": [
       "count                 73\n",
       "unique                24\n",
       "top       Homer Simpsons\n",
       "freq                   4\n",
       "Name: Name, dtype: object"
      ]
     },
     "execution_count": 3,
     "metadata": {},
     "output_type": "execute_result"
    }
   ],
   "source": [
    "products['Name'].describe()"
   ]
  },
  {
   "cell_type": "code",
   "execution_count": 4,
   "id": "17cb0e4b-f537-444b-9e74-69e2033e8549",
   "metadata": {
    "tags": []
   },
   "outputs": [
    {
     "data": {
      "text/plain": [
       "array(['Capitão América', 'Thor', 'Deadpool', 'Pantera Negra', 'Batman',\n",
       "       'Flash', 'Coringa', 'Mulher-Maravilha', 'Thanos', 'Wolverine',\n",
       "       'Capitã Marvel', 'Naruto', 'Pokemon Go Squirtle', 'Super Mario',\n",
       "       'BIXDream', 'Tempestade', 'Ciclope', 'Dragon Ball Z',\n",
       "       'Darth Vader', 'Iron Man', 'Bazinga', 'League Legends',\n",
       "       'Rick Morty', 'Homer Simpsons'], dtype=object)"
      ]
     },
     "execution_count": 4,
     "metadata": {},
     "output_type": "execute_result"
    }
   ],
   "source": [
    "products['Name'].unique()"
   ]
  },
  {
   "cell_type": "code",
   "execution_count": 7,
   "id": "2a44b5a4-9524-4edb-b1aa-6984343ac68f",
   "metadata": {
    "tags": []
   },
   "outputs": [
    {
     "data": {
      "text/html": [
       "<div>\n",
       "<style scoped>\n",
       "    .dataframe tbody tr th:only-of-type {\n",
       "        vertical-align: middle;\n",
       "    }\n",
       "\n",
       "    .dataframe tbody tr th {\n",
       "        vertical-align: top;\n",
       "    }\n",
       "\n",
       "    .dataframe thead th {\n",
       "        text-align: right;\n",
       "    }\n",
       "</style>\n",
       "<table border=\"1\" class=\"dataframe\">\n",
       "  <thead>\n",
       "    <tr style=\"text-align: right;\">\n",
       "      <th></th>\n",
       "      <th>ID</th>\n",
       "      <th>Name</th>\n",
       "      <th>Size</th>\n",
       "    </tr>\n",
       "  </thead>\n",
       "  <tbody>\n",
       "    <tr>\n",
       "      <th>62</th>\n",
       "      <td>002ec297b1b00fb9dde7ee6ac24b67713</td>\n",
       "      <td>Bazinga</td>\n",
       "      <td>G</td>\n",
       "    </tr>\n",
       "  </tbody>\n",
       "</table>\n",
       "</div>"
      ],
      "text/plain": [
       "                                   ID     Name Size\n",
       "62  002ec297b1b00fb9dde7ee6ac24b67713  Bazinga    G"
      ]
     },
     "execution_count": 7,
     "metadata": {},
     "output_type": "execute_result"
    }
   ],
   "source": [
    "products.query(\"ID == '002ec297b1b00fb9dde7ee6ac24b67713'\")"
   ]
  },
  {
   "cell_type": "code",
   "execution_count": 8,
   "id": "4fbac304-462b-4f91-9589-3ae9b936f70b",
   "metadata": {
    "tags": []
   },
   "outputs": [
    {
     "data": {
      "text/html": [
       "<div>\n",
       "<style scoped>\n",
       "    .dataframe tbody tr th:only-of-type {\n",
       "        vertical-align: middle;\n",
       "    }\n",
       "\n",
       "    .dataframe tbody tr th {\n",
       "        vertical-align: top;\n",
       "    }\n",
       "\n",
       "    .dataframe thead th {\n",
       "        text-align: right;\n",
       "    }\n",
       "</style>\n",
       "<table border=\"1\" class=\"dataframe\">\n",
       "  <thead>\n",
       "    <tr style=\"text-align: right;\">\n",
       "      <th></th>\n",
       "      <th>ID</th>\n",
       "      <th>Name</th>\n",
       "      <th>Size</th>\n",
       "    </tr>\n",
       "  </thead>\n",
       "  <tbody>\n",
       "    <tr>\n",
       "      <th>57</th>\n",
       "      <td>002d4ea7c04739c130bb74d7e7cd16941</td>\n",
       "      <td>Iron Man</td>\n",
       "      <td>P</td>\n",
       "    </tr>\n",
       "    <tr>\n",
       "      <th>58</th>\n",
       "      <td>002d4ea7c04739c130bb74d7e7cd16942</td>\n",
       "      <td>Iron Man</td>\n",
       "      <td>M</td>\n",
       "    </tr>\n",
       "    <tr>\n",
       "      <th>59</th>\n",
       "      <td>002d4ea7c04739c130bb74d7e7cd16943</td>\n",
       "      <td>Iron Man</td>\n",
       "      <td>G</td>\n",
       "    </tr>\n",
       "  </tbody>\n",
       "</table>\n",
       "</div>"
      ],
      "text/plain": [
       "                                   ID      Name Size\n",
       "57  002d4ea7c04739c130bb74d7e7cd16941  Iron Man    P\n",
       "58  002d4ea7c04739c130bb74d7e7cd16942  Iron Man    M\n",
       "59  002d4ea7c04739c130bb74d7e7cd16943  Iron Man    G"
      ]
     },
     "execution_count": 8,
     "metadata": {},
     "output_type": "execute_result"
    }
   ],
   "source": [
    "products.query(\"Name == 'Iron Man'\")"
   ]
  }
 ],
 "metadata": {
  "kernelspec": {
   "display_name": "Python 3 (ipykernel)",
   "language": "python",
   "name": "python3"
  },
  "language_info": {
   "codemirror_mode": {
    "name": "ipython",
    "version": 3
   },
   "file_extension": ".py",
   "mimetype": "text/x-python",
   "name": "python",
   "nbconvert_exporter": "python",
   "pygments_lexer": "ipython3",
   "version": "3.10.9"
  }
 },
 "nbformat": 4,
 "nbformat_minor": 5
}
